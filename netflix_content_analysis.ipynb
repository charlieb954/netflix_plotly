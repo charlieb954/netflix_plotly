{
 "cells": [
  {
   "cell_type": "markdown",
   "metadata": {},
   "source": [
    "# Netflix data trends using plotly\n",
    "\n",
    "Source = https://www.kaggle.com/shivamb/netflix-shows\n",
    "\n",
    "Description = This dataset consists of tv shows and movies available on Netflix as of 2019. The dataset is collected from Flixable which is a third-party Netflix search engine. "
   ]
  },
  {
   "cell_type": "code",
   "execution_count": 1,
   "metadata": {},
   "outputs": [],
   "source": [
    "import pandas as pd\n",
    "import numpy as np\n",
    "import os\n",
    "from collections import Counter\n",
    "import ipywidgets\n",
    "\n",
    "import plotly.graph_objs as go\n",
    "import plotly.express as px"
   ]
  },
  {
   "cell_type": "code",
   "execution_count": 3,
   "metadata": {},
   "outputs": [],
   "source": [
    "netflix_df = pd.read_csv('data/netflix_titles.csv')"
   ]
  },
  {
   "cell_type": "code",
   "execution_count": 39,
   "metadata": {},
   "outputs": [
    {
     "output_type": "display_data",
     "data": {
      "application/vnd.plotly.v1+json": {
       "config": {
        "plotlyServerURL": "https://plot.ly"
       },
       "data": [
        {
         "branchvalues": "total",
         "domain": {
          "x": [
           0,
           1
          ],
          "y": [
           0,
           1
          ]
         },
         "hoverlabel": {
          "namelength": 0
         },
         "ids": [
          "Action & Adventure",
          "Anime Features",
          "Anime Series",
          "British TV Shows",
          "Children & Family Movies",
          "Classic & Cult TV",
          "Classic Movies",
          "Comedies",
          "Crime TV Shows",
          "Cult Movies",
          "Documentaries",
          "Docuseries",
          "Dramas",
          "Faith & Spirituality",
          "Horror Movies",
          "Independent Movies",
          "International Movies",
          "International TV Shows",
          "Kids' TV",
          "Korean TV Shows",
          "LGBTQ Movies",
          "Movies",
          "Music & Musicals",
          "Reality TV",
          "Romantic Movies",
          "Romantic TV Shows",
          "Sci-Fi & Fantasy",
          "Science & Nature TV",
          "Spanish-Language TV Shows",
          "Sports Movies",
          "Stand-Up Comedy",
          "Stand-Up Comedy & Talk Shows",
          "TV Action & Adventure",
          "TV Comedies",
          "TV Dramas",
          "TV Horror",
          "TV Mysteries",
          "TV Sci-Fi & Fantasy",
          "TV Shows",
          "TV Thrillers",
          "Teen TV Shows",
          "Thrillers"
         ],
         "labels": [
          "Action & Adventure",
          "Anime Features",
          "Anime Series",
          "British TV Shows",
          "Children & Family Movies",
          "Classic & Cult TV",
          "Classic Movies",
          "Comedies",
          "Crime TV Shows",
          "Cult Movies",
          "Documentaries",
          "Docuseries",
          "Dramas",
          "Faith & Spirituality",
          "Horror Movies",
          "Independent Movies",
          "International Movies",
          "International TV Shows",
          "Kids' TV",
          "Korean TV Shows",
          "LGBTQ Movies",
          "Movies",
          "Music & Musicals",
          "Reality TV",
          "Romantic Movies",
          "Romantic TV Shows",
          "Sci-Fi & Fantasy",
          "Science & Nature TV",
          "Spanish-Language TV Shows",
          "Sports Movies",
          "Stand-Up Comedy",
          "Stand-Up Comedy & Talk Shows",
          "TV Action & Adventure",
          "TV Comedies",
          "TV Dramas",
          "TV Horror",
          "TV Mysteries",
          "TV Sci-Fi & Fantasy",
          "TV Shows",
          "TV Thrillers",
          "Teen TV Shows",
          "Thrillers"
         ],
         "name": "",
         "parents": [
          "",
          "",
          "",
          "",
          "",
          "",
          "",
          "",
          "",
          "",
          "",
          "",
          "",
          "",
          "",
          "",
          "",
          "",
          "",
          "",
          "",
          "",
          "",
          "",
          "",
          "",
          "",
          "",
          "",
          "",
          "",
          "",
          "",
          "",
          "",
          "",
          "",
          "",
          "",
          "",
          "",
          ""
         ],
         "type": "treemap",
         "values": [
          597,
          45,
          117,
          210,
          378,
          24,
          84,
          1113,
          363,
          55,
          668,
          279,
          1623,
          47,
          262,
          552,
          1927,
          1001,
          328,
          132,
          60,
          56,
          243,
          153,
          376,
          278,
          193,
          67,
          117,
          157,
          281,
          42,
          126,
          436,
          599,
          54,
          69,
          68,
          10,
          44,
          44,
          392
         ]
        }
       ],
       "layout": {
        "hovermode": "x",
        "legend": {
         "tracegroupgap": 0
        },
        "template": {
         "data": {
          "bar": [
           {
            "error_x": {
             "color": "#2a3f5f"
            },
            "error_y": {
             "color": "#2a3f5f"
            },
            "marker": {
             "line": {
              "color": "#E5ECF6",
              "width": 0.5
             }
            },
            "type": "bar"
           }
          ],
          "barpolar": [
           {
            "marker": {
             "line": {
              "color": "#E5ECF6",
              "width": 0.5
             }
            },
            "type": "barpolar"
           }
          ],
          "carpet": [
           {
            "aaxis": {
             "endlinecolor": "#2a3f5f",
             "gridcolor": "white",
             "linecolor": "white",
             "minorgridcolor": "white",
             "startlinecolor": "#2a3f5f"
            },
            "baxis": {
             "endlinecolor": "#2a3f5f",
             "gridcolor": "white",
             "linecolor": "white",
             "minorgridcolor": "white",
             "startlinecolor": "#2a3f5f"
            },
            "type": "carpet"
           }
          ],
          "choropleth": [
           {
            "colorbar": {
             "outlinewidth": 0,
             "ticks": ""
            },
            "type": "choropleth"
           }
          ],
          "contour": [
           {
            "colorbar": {
             "outlinewidth": 0,
             "ticks": ""
            },
            "colorscale": [
             [
              0,
              "#0d0887"
             ],
             [
              0.1111111111111111,
              "#46039f"
             ],
             [
              0.2222222222222222,
              "#7201a8"
             ],
             [
              0.3333333333333333,
              "#9c179e"
             ],
             [
              0.4444444444444444,
              "#bd3786"
             ],
             [
              0.5555555555555556,
              "#d8576b"
             ],
             [
              0.6666666666666666,
              "#ed7953"
             ],
             [
              0.7777777777777778,
              "#fb9f3a"
             ],
             [
              0.8888888888888888,
              "#fdca26"
             ],
             [
              1,
              "#f0f921"
             ]
            ],
            "type": "contour"
           }
          ],
          "contourcarpet": [
           {
            "colorbar": {
             "outlinewidth": 0,
             "ticks": ""
            },
            "type": "contourcarpet"
           }
          ],
          "heatmap": [
           {
            "colorbar": {
             "outlinewidth": 0,
             "ticks": ""
            },
            "colorscale": [
             [
              0,
              "#0d0887"
             ],
             [
              0.1111111111111111,
              "#46039f"
             ],
             [
              0.2222222222222222,
              "#7201a8"
             ],
             [
              0.3333333333333333,
              "#9c179e"
             ],
             [
              0.4444444444444444,
              "#bd3786"
             ],
             [
              0.5555555555555556,
              "#d8576b"
             ],
             [
              0.6666666666666666,
              "#ed7953"
             ],
             [
              0.7777777777777778,
              "#fb9f3a"
             ],
             [
              0.8888888888888888,
              "#fdca26"
             ],
             [
              1,
              "#f0f921"
             ]
            ],
            "type": "heatmap"
           }
          ],
          "heatmapgl": [
           {
            "colorbar": {
             "outlinewidth": 0,
             "ticks": ""
            },
            "colorscale": [
             [
              0,
              "#0d0887"
             ],
             [
              0.1111111111111111,
              "#46039f"
             ],
             [
              0.2222222222222222,
              "#7201a8"
             ],
             [
              0.3333333333333333,
              "#9c179e"
             ],
             [
              0.4444444444444444,
              "#bd3786"
             ],
             [
              0.5555555555555556,
              "#d8576b"
             ],
             [
              0.6666666666666666,
              "#ed7953"
             ],
             [
              0.7777777777777778,
              "#fb9f3a"
             ],
             [
              0.8888888888888888,
              "#fdca26"
             ],
             [
              1,
              "#f0f921"
             ]
            ],
            "type": "heatmapgl"
           }
          ],
          "histogram": [
           {
            "marker": {
             "colorbar": {
              "outlinewidth": 0,
              "ticks": ""
             }
            },
            "type": "histogram"
           }
          ],
          "histogram2d": [
           {
            "colorbar": {
             "outlinewidth": 0,
             "ticks": ""
            },
            "colorscale": [
             [
              0,
              "#0d0887"
             ],
             [
              0.1111111111111111,
              "#46039f"
             ],
             [
              0.2222222222222222,
              "#7201a8"
             ],
             [
              0.3333333333333333,
              "#9c179e"
             ],
             [
              0.4444444444444444,
              "#bd3786"
             ],
             [
              0.5555555555555556,
              "#d8576b"
             ],
             [
              0.6666666666666666,
              "#ed7953"
             ],
             [
              0.7777777777777778,
              "#fb9f3a"
             ],
             [
              0.8888888888888888,
              "#fdca26"
             ],
             [
              1,
              "#f0f921"
             ]
            ],
            "type": "histogram2d"
           }
          ],
          "histogram2dcontour": [
           {
            "colorbar": {
             "outlinewidth": 0,
             "ticks": ""
            },
            "colorscale": [
             [
              0,
              "#0d0887"
             ],
             [
              0.1111111111111111,
              "#46039f"
             ],
             [
              0.2222222222222222,
              "#7201a8"
             ],
             [
              0.3333333333333333,
              "#9c179e"
             ],
             [
              0.4444444444444444,
              "#bd3786"
             ],
             [
              0.5555555555555556,
              "#d8576b"
             ],
             [
              0.6666666666666666,
              "#ed7953"
             ],
             [
              0.7777777777777778,
              "#fb9f3a"
             ],
             [
              0.8888888888888888,
              "#fdca26"
             ],
             [
              1,
              "#f0f921"
             ]
            ],
            "type": "histogram2dcontour"
           }
          ],
          "mesh3d": [
           {
            "colorbar": {
             "outlinewidth": 0,
             "ticks": ""
            },
            "type": "mesh3d"
           }
          ],
          "parcoords": [
           {
            "line": {
             "colorbar": {
              "outlinewidth": 0,
              "ticks": ""
             }
            },
            "type": "parcoords"
           }
          ],
          "pie": [
           {
            "automargin": true,
            "type": "pie"
           }
          ],
          "scatter": [
           {
            "marker": {
             "colorbar": {
              "outlinewidth": 0,
              "ticks": ""
             }
            },
            "type": "scatter"
           }
          ],
          "scatter3d": [
           {
            "line": {
             "colorbar": {
              "outlinewidth": 0,
              "ticks": ""
             }
            },
            "marker": {
             "colorbar": {
              "outlinewidth": 0,
              "ticks": ""
             }
            },
            "type": "scatter3d"
           }
          ],
          "scattercarpet": [
           {
            "marker": {
             "colorbar": {
              "outlinewidth": 0,
              "ticks": ""
             }
            },
            "type": "scattercarpet"
           }
          ],
          "scattergeo": [
           {
            "marker": {
             "colorbar": {
              "outlinewidth": 0,
              "ticks": ""
             }
            },
            "type": "scattergeo"
           }
          ],
          "scattergl": [
           {
            "marker": {
             "colorbar": {
              "outlinewidth": 0,
              "ticks": ""
             }
            },
            "type": "scattergl"
           }
          ],
          "scattermapbox": [
           {
            "marker": {
             "colorbar": {
              "outlinewidth": 0,
              "ticks": ""
             }
            },
            "type": "scattermapbox"
           }
          ],
          "scatterpolar": [
           {
            "marker": {
             "colorbar": {
              "outlinewidth": 0,
              "ticks": ""
             }
            },
            "type": "scatterpolar"
           }
          ],
          "scatterpolargl": [
           {
            "marker": {
             "colorbar": {
              "outlinewidth": 0,
              "ticks": ""
             }
            },
            "type": "scatterpolargl"
           }
          ],
          "scatterternary": [
           {
            "marker": {
             "colorbar": {
              "outlinewidth": 0,
              "ticks": ""
             }
            },
            "type": "scatterternary"
           }
          ],
          "surface": [
           {
            "colorbar": {
             "outlinewidth": 0,
             "ticks": ""
            },
            "colorscale": [
             [
              0,
              "#0d0887"
             ],
             [
              0.1111111111111111,
              "#46039f"
             ],
             [
              0.2222222222222222,
              "#7201a8"
             ],
             [
              0.3333333333333333,
              "#9c179e"
             ],
             [
              0.4444444444444444,
              "#bd3786"
             ],
             [
              0.5555555555555556,
              "#d8576b"
             ],
             [
              0.6666666666666666,
              "#ed7953"
             ],
             [
              0.7777777777777778,
              "#fb9f3a"
             ],
             [
              0.8888888888888888,
              "#fdca26"
             ],
             [
              1,
              "#f0f921"
             ]
            ],
            "type": "surface"
           }
          ],
          "table": [
           {
            "cells": {
             "fill": {
              "color": "#EBF0F8"
             },
             "line": {
              "color": "white"
             }
            },
            "header": {
             "fill": {
              "color": "#C8D4E3"
             },
             "line": {
              "color": "white"
             }
            },
            "type": "table"
           }
          ]
         },
         "layout": {
          "annotationdefaults": {
           "arrowcolor": "#2a3f5f",
           "arrowhead": 0,
           "arrowwidth": 1
          },
          "coloraxis": {
           "colorbar": {
            "outlinewidth": 0,
            "ticks": ""
           }
          },
          "colorscale": {
           "diverging": [
            [
             0,
             "#8e0152"
            ],
            [
             0.1,
             "#c51b7d"
            ],
            [
             0.2,
             "#de77ae"
            ],
            [
             0.3,
             "#f1b6da"
            ],
            [
             0.4,
             "#fde0ef"
            ],
            [
             0.5,
             "#f7f7f7"
            ],
            [
             0.6,
             "#e6f5d0"
            ],
            [
             0.7,
             "#b8e186"
            ],
            [
             0.8,
             "#7fbc41"
            ],
            [
             0.9,
             "#4d9221"
            ],
            [
             1,
             "#276419"
            ]
           ],
           "sequential": [
            [
             0,
             "#0d0887"
            ],
            [
             0.1111111111111111,
             "#46039f"
            ],
            [
             0.2222222222222222,
             "#7201a8"
            ],
            [
             0.3333333333333333,
             "#9c179e"
            ],
            [
             0.4444444444444444,
             "#bd3786"
            ],
            [
             0.5555555555555556,
             "#d8576b"
            ],
            [
             0.6666666666666666,
             "#ed7953"
            ],
            [
             0.7777777777777778,
             "#fb9f3a"
            ],
            [
             0.8888888888888888,
             "#fdca26"
            ],
            [
             1,
             "#f0f921"
            ]
           ],
           "sequentialminus": [
            [
             0,
             "#0d0887"
            ],
            [
             0.1111111111111111,
             "#46039f"
            ],
            [
             0.2222222222222222,
             "#7201a8"
            ],
            [
             0.3333333333333333,
             "#9c179e"
            ],
            [
             0.4444444444444444,
             "#bd3786"
            ],
            [
             0.5555555555555556,
             "#d8576b"
            ],
            [
             0.6666666666666666,
             "#ed7953"
            ],
            [
             0.7777777777777778,
             "#fb9f3a"
            ],
            [
             0.8888888888888888,
             "#fdca26"
            ],
            [
             1,
             "#f0f921"
            ]
           ]
          },
          "colorway": [
           "#636efa",
           "#EF553B",
           "#00cc96",
           "#ab63fa",
           "#FFA15A",
           "#19d3f3",
           "#FF6692",
           "#B6E880",
           "#FF97FF",
           "#FECB52"
          ],
          "font": {
           "color": "#2a3f5f"
          },
          "geo": {
           "bgcolor": "white",
           "lakecolor": "white",
           "landcolor": "#E5ECF6",
           "showlakes": true,
           "showland": true,
           "subunitcolor": "white"
          },
          "hoverlabel": {
           "align": "left"
          },
          "hovermode": "closest",
          "mapbox": {
           "style": "light"
          },
          "paper_bgcolor": "white",
          "plot_bgcolor": "#E5ECF6",
          "polar": {
           "angularaxis": {
            "gridcolor": "white",
            "linecolor": "white",
            "ticks": ""
           },
           "bgcolor": "#E5ECF6",
           "radialaxis": {
            "gridcolor": "white",
            "linecolor": "white",
            "ticks": ""
           }
          },
          "scene": {
           "xaxis": {
            "backgroundcolor": "#E5ECF6",
            "gridcolor": "white",
            "gridwidth": 2,
            "linecolor": "white",
            "showbackground": true,
            "ticks": "",
            "zerolinecolor": "white"
           },
           "yaxis": {
            "backgroundcolor": "#E5ECF6",
            "gridcolor": "white",
            "gridwidth": 2,
            "linecolor": "white",
            "showbackground": true,
            "ticks": "",
            "zerolinecolor": "white"
           },
           "zaxis": {
            "backgroundcolor": "#E5ECF6",
            "gridcolor": "white",
            "gridwidth": 2,
            "linecolor": "white",
            "showbackground": true,
            "ticks": "",
            "zerolinecolor": "white"
           }
          },
          "shapedefaults": {
           "line": {
            "color": "#2a3f5f"
           }
          },
          "ternary": {
           "aaxis": {
            "gridcolor": "white",
            "linecolor": "white",
            "ticks": ""
           },
           "baxis": {
            "gridcolor": "white",
            "linecolor": "white",
            "ticks": ""
           },
           "bgcolor": "#E5ECF6",
           "caxis": {
            "gridcolor": "white",
            "linecolor": "white",
            "ticks": ""
           }
          },
          "title": {
           "x": 0.05
          },
          "xaxis": {
           "automargin": true,
           "gridcolor": "white",
           "linecolor": "white",
           "ticks": "",
           "title": {
            "standoff": 15
           },
           "zerolinecolor": "white",
           "zerolinewidth": 2
          },
          "yaxis": {
           "automargin": true,
           "gridcolor": "white",
           "linecolor": "white",
           "ticks": "",
           "title": {
            "standoff": 15
           },
           "zerolinecolor": "white",
           "zerolinewidth": 2
          }
         }
        },
        "title": {
         "text": "Treemap of Type"
        }
       }
      }
     },
     "metadata": {}
    },
    {
     "output_type": "display_data",
     "data": {
      "application/vnd.plotly.v1+json": {
       "config": {
        "plotlyServerURL": "https://plot.ly"
       },
       "data": [
        {
         "alignmentgroup": "True",
         "hoverlabel": {
          "namelength": 0
         },
         "legendgroup": "",
         "marker": {
          "color": "#636efa"
         },
         "name": "",
         "offsetgroup": "",
         "orientation": "v",
         "showlegend": false,
         "textposition": "auto",
         "type": "bar",
         "x": [
          "International Movies",
          "Dramas",
          "Comedies",
          "International TV Shows",
          "Documentaries",
          "TV Dramas",
          "Action & Adventure",
          "Independent Movies",
          "TV Comedies",
          "Thrillers",
          "Children & Family Movies",
          "Romantic Movies",
          "Crime TV Shows",
          "Kids' TV",
          "Stand-Up Comedy",
          "Docuseries",
          "Romantic TV Shows",
          "Horror Movies",
          "Music & Musicals",
          "British TV Shows",
          "Sci-Fi & Fantasy",
          "Sports Movies",
          "Reality TV",
          "Korean TV Shows",
          "TV Action & Adventure",
          "Spanish-Language TV Shows",
          "Anime Series",
          "Classic Movies",
          "TV Mysteries",
          "TV Sci-Fi & Fantasy",
          "Science & Nature TV",
          "LGBTQ Movies",
          "Movies",
          "Cult Movies",
          "TV Horror",
          "Faith & Spirituality",
          "Anime Features",
          "TV Thrillers",
          "Teen TV Shows",
          "Stand-Up Comedy & Talk Shows",
          "Classic & Cult TV",
          "TV Shows"
         ],
         "xaxis": "x",
         "y": [
          1927,
          1623,
          1113,
          1001,
          668,
          599,
          597,
          552,
          436,
          392,
          378,
          376,
          363,
          328,
          281,
          279,
          278,
          262,
          243,
          210,
          193,
          157,
          153,
          132,
          126,
          117,
          117,
          84,
          69,
          68,
          67,
          60,
          56,
          55,
          54,
          47,
          45,
          44,
          44,
          42,
          24,
          10
         ],
         "yaxis": "y"
        }
       ],
       "layout": {
        "barmode": "relative",
        "hovermode": "x",
        "legend": {
         "tracegroupgap": 0
        },
        "template": {
         "data": {
          "bar": [
           {
            "error_x": {
             "color": "#2a3f5f"
            },
            "error_y": {
             "color": "#2a3f5f"
            },
            "marker": {
             "line": {
              "color": "#E5ECF6",
              "width": 0.5
             }
            },
            "type": "bar"
           }
          ],
          "barpolar": [
           {
            "marker": {
             "line": {
              "color": "#E5ECF6",
              "width": 0.5
             }
            },
            "type": "barpolar"
           }
          ],
          "carpet": [
           {
            "aaxis": {
             "endlinecolor": "#2a3f5f",
             "gridcolor": "white",
             "linecolor": "white",
             "minorgridcolor": "white",
             "startlinecolor": "#2a3f5f"
            },
            "baxis": {
             "endlinecolor": "#2a3f5f",
             "gridcolor": "white",
             "linecolor": "white",
             "minorgridcolor": "white",
             "startlinecolor": "#2a3f5f"
            },
            "type": "carpet"
           }
          ],
          "choropleth": [
           {
            "colorbar": {
             "outlinewidth": 0,
             "ticks": ""
            },
            "type": "choropleth"
           }
          ],
          "contour": [
           {
            "colorbar": {
             "outlinewidth": 0,
             "ticks": ""
            },
            "colorscale": [
             [
              0,
              "#0d0887"
             ],
             [
              0.1111111111111111,
              "#46039f"
             ],
             [
              0.2222222222222222,
              "#7201a8"
             ],
             [
              0.3333333333333333,
              "#9c179e"
             ],
             [
              0.4444444444444444,
              "#bd3786"
             ],
             [
              0.5555555555555556,
              "#d8576b"
             ],
             [
              0.6666666666666666,
              "#ed7953"
             ],
             [
              0.7777777777777778,
              "#fb9f3a"
             ],
             [
              0.8888888888888888,
              "#fdca26"
             ],
             [
              1,
              "#f0f921"
             ]
            ],
            "type": "contour"
           }
          ],
          "contourcarpet": [
           {
            "colorbar": {
             "outlinewidth": 0,
             "ticks": ""
            },
            "type": "contourcarpet"
           }
          ],
          "heatmap": [
           {
            "colorbar": {
             "outlinewidth": 0,
             "ticks": ""
            },
            "colorscale": [
             [
              0,
              "#0d0887"
             ],
             [
              0.1111111111111111,
              "#46039f"
             ],
             [
              0.2222222222222222,
              "#7201a8"
             ],
             [
              0.3333333333333333,
              "#9c179e"
             ],
             [
              0.4444444444444444,
              "#bd3786"
             ],
             [
              0.5555555555555556,
              "#d8576b"
             ],
             [
              0.6666666666666666,
              "#ed7953"
             ],
             [
              0.7777777777777778,
              "#fb9f3a"
             ],
             [
              0.8888888888888888,
              "#fdca26"
             ],
             [
              1,
              "#f0f921"
             ]
            ],
            "type": "heatmap"
           }
          ],
          "heatmapgl": [
           {
            "colorbar": {
             "outlinewidth": 0,
             "ticks": ""
            },
            "colorscale": [
             [
              0,
              "#0d0887"
             ],
             [
              0.1111111111111111,
              "#46039f"
             ],
             [
              0.2222222222222222,
              "#7201a8"
             ],
             [
              0.3333333333333333,
              "#9c179e"
             ],
             [
              0.4444444444444444,
              "#bd3786"
             ],
             [
              0.5555555555555556,
              "#d8576b"
             ],
             [
              0.6666666666666666,
              "#ed7953"
             ],
             [
              0.7777777777777778,
              "#fb9f3a"
             ],
             [
              0.8888888888888888,
              "#fdca26"
             ],
             [
              1,
              "#f0f921"
             ]
            ],
            "type": "heatmapgl"
           }
          ],
          "histogram": [
           {
            "marker": {
             "colorbar": {
              "outlinewidth": 0,
              "ticks": ""
             }
            },
            "type": "histogram"
           }
          ],
          "histogram2d": [
           {
            "colorbar": {
             "outlinewidth": 0,
             "ticks": ""
            },
            "colorscale": [
             [
              0,
              "#0d0887"
             ],
             [
              0.1111111111111111,
              "#46039f"
             ],
             [
              0.2222222222222222,
              "#7201a8"
             ],
             [
              0.3333333333333333,
              "#9c179e"
             ],
             [
              0.4444444444444444,
              "#bd3786"
             ],
             [
              0.5555555555555556,
              "#d8576b"
             ],
             [
              0.6666666666666666,
              "#ed7953"
             ],
             [
              0.7777777777777778,
              "#fb9f3a"
             ],
             [
              0.8888888888888888,
              "#fdca26"
             ],
             [
              1,
              "#f0f921"
             ]
            ],
            "type": "histogram2d"
           }
          ],
          "histogram2dcontour": [
           {
            "colorbar": {
             "outlinewidth": 0,
             "ticks": ""
            },
            "colorscale": [
             [
              0,
              "#0d0887"
             ],
             [
              0.1111111111111111,
              "#46039f"
             ],
             [
              0.2222222222222222,
              "#7201a8"
             ],
             [
              0.3333333333333333,
              "#9c179e"
             ],
             [
              0.4444444444444444,
              "#bd3786"
             ],
             [
              0.5555555555555556,
              "#d8576b"
             ],
             [
              0.6666666666666666,
              "#ed7953"
             ],
             [
              0.7777777777777778,
              "#fb9f3a"
             ],
             [
              0.8888888888888888,
              "#fdca26"
             ],
             [
              1,
              "#f0f921"
             ]
            ],
            "type": "histogram2dcontour"
           }
          ],
          "mesh3d": [
           {
            "colorbar": {
             "outlinewidth": 0,
             "ticks": ""
            },
            "type": "mesh3d"
           }
          ],
          "parcoords": [
           {
            "line": {
             "colorbar": {
              "outlinewidth": 0,
              "ticks": ""
             }
            },
            "type": "parcoords"
           }
          ],
          "pie": [
           {
            "automargin": true,
            "type": "pie"
           }
          ],
          "scatter": [
           {
            "marker": {
             "colorbar": {
              "outlinewidth": 0,
              "ticks": ""
             }
            },
            "type": "scatter"
           }
          ],
          "scatter3d": [
           {
            "line": {
             "colorbar": {
              "outlinewidth": 0,
              "ticks": ""
             }
            },
            "marker": {
             "colorbar": {
              "outlinewidth": 0,
              "ticks": ""
             }
            },
            "type": "scatter3d"
           }
          ],
          "scattercarpet": [
           {
            "marker": {
             "colorbar": {
              "outlinewidth": 0,
              "ticks": ""
             }
            },
            "type": "scattercarpet"
           }
          ],
          "scattergeo": [
           {
            "marker": {
             "colorbar": {
              "outlinewidth": 0,
              "ticks": ""
             }
            },
            "type": "scattergeo"
           }
          ],
          "scattergl": [
           {
            "marker": {
             "colorbar": {
              "outlinewidth": 0,
              "ticks": ""
             }
            },
            "type": "scattergl"
           }
          ],
          "scattermapbox": [
           {
            "marker": {
             "colorbar": {
              "outlinewidth": 0,
              "ticks": ""
             }
            },
            "type": "scattermapbox"
           }
          ],
          "scatterpolar": [
           {
            "marker": {
             "colorbar": {
              "outlinewidth": 0,
              "ticks": ""
             }
            },
            "type": "scatterpolar"
           }
          ],
          "scatterpolargl": [
           {
            "marker": {
             "colorbar": {
              "outlinewidth": 0,
              "ticks": ""
             }
            },
            "type": "scatterpolargl"
           }
          ],
          "scatterternary": [
           {
            "marker": {
             "colorbar": {
              "outlinewidth": 0,
              "ticks": ""
             }
            },
            "type": "scatterternary"
           }
          ],
          "surface": [
           {
            "colorbar": {
             "outlinewidth": 0,
             "ticks": ""
            },
            "colorscale": [
             [
              0,
              "#0d0887"
             ],
             [
              0.1111111111111111,
              "#46039f"
             ],
             [
              0.2222222222222222,
              "#7201a8"
             ],
             [
              0.3333333333333333,
              "#9c179e"
             ],
             [
              0.4444444444444444,
              "#bd3786"
             ],
             [
              0.5555555555555556,
              "#d8576b"
             ],
             [
              0.6666666666666666,
              "#ed7953"
             ],
             [
              0.7777777777777778,
              "#fb9f3a"
             ],
             [
              0.8888888888888888,
              "#fdca26"
             ],
             [
              1,
              "#f0f921"
             ]
            ],
            "type": "surface"
           }
          ],
          "table": [
           {
            "cells": {
             "fill": {
              "color": "#EBF0F8"
             },
             "line": {
              "color": "white"
             }
            },
            "header": {
             "fill": {
              "color": "#C8D4E3"
             },
             "line": {
              "color": "white"
             }
            },
            "type": "table"
           }
          ]
         },
         "layout": {
          "annotationdefaults": {
           "arrowcolor": "#2a3f5f",
           "arrowhead": 0,
           "arrowwidth": 1
          },
          "coloraxis": {
           "colorbar": {
            "outlinewidth": 0,
            "ticks": ""
           }
          },
          "colorscale": {
           "diverging": [
            [
             0,
             "#8e0152"
            ],
            [
             0.1,
             "#c51b7d"
            ],
            [
             0.2,
             "#de77ae"
            ],
            [
             0.3,
             "#f1b6da"
            ],
            [
             0.4,
             "#fde0ef"
            ],
            [
             0.5,
             "#f7f7f7"
            ],
            [
             0.6,
             "#e6f5d0"
            ],
            [
             0.7,
             "#b8e186"
            ],
            [
             0.8,
             "#7fbc41"
            ],
            [
             0.9,
             "#4d9221"
            ],
            [
             1,
             "#276419"
            ]
           ],
           "sequential": [
            [
             0,
             "#0d0887"
            ],
            [
             0.1111111111111111,
             "#46039f"
            ],
            [
             0.2222222222222222,
             "#7201a8"
            ],
            [
             0.3333333333333333,
             "#9c179e"
            ],
            [
             0.4444444444444444,
             "#bd3786"
            ],
            [
             0.5555555555555556,
             "#d8576b"
            ],
            [
             0.6666666666666666,
             "#ed7953"
            ],
            [
             0.7777777777777778,
             "#fb9f3a"
            ],
            [
             0.8888888888888888,
             "#fdca26"
            ],
            [
             1,
             "#f0f921"
            ]
           ],
           "sequentialminus": [
            [
             0,
             "#0d0887"
            ],
            [
             0.1111111111111111,
             "#46039f"
            ],
            [
             0.2222222222222222,
             "#7201a8"
            ],
            [
             0.3333333333333333,
             "#9c179e"
            ],
            [
             0.4444444444444444,
             "#bd3786"
            ],
            [
             0.5555555555555556,
             "#d8576b"
            ],
            [
             0.6666666666666666,
             "#ed7953"
            ],
            [
             0.7777777777777778,
             "#fb9f3a"
            ],
            [
             0.8888888888888888,
             "#fdca26"
            ],
            [
             1,
             "#f0f921"
            ]
           ]
          },
          "colorway": [
           "#636efa",
           "#EF553B",
           "#00cc96",
           "#ab63fa",
           "#FFA15A",
           "#19d3f3",
           "#FF6692",
           "#B6E880",
           "#FF97FF",
           "#FECB52"
          ],
          "font": {
           "color": "#2a3f5f"
          },
          "geo": {
           "bgcolor": "white",
           "lakecolor": "white",
           "landcolor": "#E5ECF6",
           "showlakes": true,
           "showland": true,
           "subunitcolor": "white"
          },
          "hoverlabel": {
           "align": "left"
          },
          "hovermode": "closest",
          "mapbox": {
           "style": "light"
          },
          "paper_bgcolor": "white",
          "plot_bgcolor": "#E5ECF6",
          "polar": {
           "angularaxis": {
            "gridcolor": "white",
            "linecolor": "white",
            "ticks": ""
           },
           "bgcolor": "#E5ECF6",
           "radialaxis": {
            "gridcolor": "white",
            "linecolor": "white",
            "ticks": ""
           }
          },
          "scene": {
           "xaxis": {
            "backgroundcolor": "#E5ECF6",
            "gridcolor": "white",
            "gridwidth": 2,
            "linecolor": "white",
            "showbackground": true,
            "ticks": "",
            "zerolinecolor": "white"
           },
           "yaxis": {
            "backgroundcolor": "#E5ECF6",
            "gridcolor": "white",
            "gridwidth": 2,
            "linecolor": "white",
            "showbackground": true,
            "ticks": "",
            "zerolinecolor": "white"
           },
           "zaxis": {
            "backgroundcolor": "#E5ECF6",
            "gridcolor": "white",
            "gridwidth": 2,
            "linecolor": "white",
            "showbackground": true,
            "ticks": "",
            "zerolinecolor": "white"
           }
          },
          "shapedefaults": {
           "line": {
            "color": "#2a3f5f"
           }
          },
          "ternary": {
           "aaxis": {
            "gridcolor": "white",
            "linecolor": "white",
            "ticks": ""
           },
           "baxis": {
            "gridcolor": "white",
            "linecolor": "white",
            "ticks": ""
           },
           "bgcolor": "#E5ECF6",
           "caxis": {
            "gridcolor": "white",
            "linecolor": "white",
            "ticks": ""
           }
          },
          "title": {
           "x": 0.05
          },
          "xaxis": {
           "automargin": true,
           "gridcolor": "white",
           "linecolor": "white",
           "ticks": "",
           "title": {
            "standoff": 15
           },
           "zerolinecolor": "white",
           "zerolinewidth": 2
          },
          "yaxis": {
           "automargin": true,
           "gridcolor": "white",
           "linecolor": "white",
           "ticks": "",
           "title": {
            "standoff": 15
           },
           "zerolinecolor": "white",
           "zerolinewidth": 2
          }
         }
        },
        "title": {
         "text": "Count of Categories"
        },
        "xaxis": {
         "anchor": "y",
         "domain": [
          0,
          1
         ],
         "title": {
          "text": "type"
         }
        },
        "yaxis": {
         "anchor": "x",
         "domain": [
          0,
          1
         ],
         "title": {
          "text": "count"
         }
        }
       }
      }
     },
     "metadata": {}
    },
    {
     "output_type": "display_data",
     "data": {
      "application/vnd.plotly.v1+json": {
       "config": {
        "plotlyServerURL": "https://plot.ly"
       },
       "data": [
        {
         "branchvalues": "total",
         "domain": {
          "x": [
           0,
           1
          ],
          "y": [
           0,
           1
          ]
         },
         "hoverlabel": {
          "namelength": 0
         },
         "ids": [
          "Canada/Action & Adventure",
          "France/Action & Adventure",
          "India/Action & Adventure",
          "Japan/Action & Adventure",
          "Spain/Action & Adventure",
          "United Kingdom/Action & Adventure",
          "United States/Action & Adventure",
          "Canada/Anime Features",
          "France/Anime Features",
          "India/Anime Features",
          "Japan/Anime Features",
          "Spain/Anime Features",
          "United Kingdom/Anime Features",
          "United States/Anime Features",
          "Canada/Anime Series",
          "France/Anime Series",
          "India/Anime Series",
          "Japan/Anime Series",
          "Spain/Anime Series",
          "United Kingdom/Anime Series",
          "United States/Anime Series",
          "Canada/British TV Shows",
          "France/British TV Shows",
          "India/British TV Shows",
          "Japan/British TV Shows",
          "Spain/British TV Shows",
          "United Kingdom/British TV Shows",
          "United States/British TV Shows",
          "Canada/Children & Family Movies",
          "France/Children & Family Movies",
          "India/Children & Family Movies",
          "Japan/Children & Family Movies",
          "Spain/Children & Family Movies",
          "United Kingdom/Children & Family Movies",
          "United States/Children & Family Movies",
          "Canada/Classic & Cult TV",
          "France/Classic & Cult TV",
          "India/Classic & Cult TV",
          "Japan/Classic & Cult TV",
          "Spain/Classic & Cult TV",
          "United Kingdom/Classic & Cult TV",
          "United States/Classic & Cult TV",
          "Canada/Classic Movies",
          "France/Classic Movies",
          "India/Classic Movies",
          "Japan/Classic Movies",
          "Spain/Classic Movies",
          "United Kingdom/Classic Movies",
          "United States/Classic Movies",
          "Canada/Comedies",
          "France/Comedies",
          "India/Comedies",
          "Japan/Comedies",
          "Spain/Comedies",
          "United Kingdom/Comedies",
          "United States/Comedies",
          "Canada/Crime TV Shows",
          "France/Crime TV Shows",
          "India/Crime TV Shows",
          "Japan/Crime TV Shows",
          "Spain/Crime TV Shows",
          "United Kingdom/Crime TV Shows",
          "United States/Crime TV Shows",
          "Canada/Cult Movies",
          "France/Cult Movies",
          "India/Cult Movies",
          "Japan/Cult Movies",
          "Spain/Cult Movies",
          "United Kingdom/Cult Movies",
          "United States/Cult Movies",
          "Canada/Documentaries",
          "France/Documentaries",
          "India/Documentaries",
          "Japan/Documentaries",
          "Spain/Documentaries",
          "United Kingdom/Documentaries",
          "United States/Documentaries",
          "Canada/Docuseries",
          "France/Docuseries",
          "India/Docuseries",
          "Japan/Docuseries",
          "Spain/Docuseries",
          "United Kingdom/Docuseries",
          "United States/Docuseries",
          "Canada/Dramas",
          "France/Dramas",
          "India/Dramas",
          "Japan/Dramas",
          "Spain/Dramas",
          "United Kingdom/Dramas",
          "United States/Dramas",
          "Canada/Faith & Spirituality",
          "France/Faith & Spirituality",
          "India/Faith & Spirituality",
          "Japan/Faith & Spirituality",
          "Spain/Faith & Spirituality",
          "United Kingdom/Faith & Spirituality",
          "United States/Faith & Spirituality",
          "Canada/Horror Movies",
          "France/Horror Movies",
          "India/Horror Movies",
          "Japan/Horror Movies",
          "Spain/Horror Movies",
          "United Kingdom/Horror Movies",
          "United States/Horror Movies",
          "Canada/Independent Movies",
          "France/Independent Movies",
          "India/Independent Movies",
          "Japan/Independent Movies",
          "Spain/Independent Movies",
          "United Kingdom/Independent Movies",
          "United States/Independent Movies",
          "Canada/International Movies",
          "France/International Movies",
          "India/International Movies",
          "Japan/International Movies",
          "Spain/International Movies",
          "United Kingdom/International Movies",
          "United States/International Movies",
          "Canada/International TV Shows",
          "France/International TV Shows",
          "India/International TV Shows",
          "Japan/International TV Shows",
          "Spain/International TV Shows",
          "United Kingdom/International TV Shows",
          "United States/International TV Shows",
          "Canada/Kids' TV",
          "France/Kids' TV",
          "India/Kids' TV",
          "Japan/Kids' TV",
          "Spain/Kids' TV",
          "United Kingdom/Kids' TV",
          "United States/Kids' TV",
          "Canada/Korean TV Shows",
          "France/Korean TV Shows",
          "India/Korean TV Shows",
          "Japan/Korean TV Shows",
          "Spain/Korean TV Shows",
          "United Kingdom/Korean TV Shows",
          "United States/Korean TV Shows",
          "Canada/LGBTQ Movies",
          "France/LGBTQ Movies",
          "India/LGBTQ Movies",
          "Japan/LGBTQ Movies",
          "Spain/LGBTQ Movies",
          "United Kingdom/LGBTQ Movies",
          "United States/LGBTQ Movies",
          "Canada/Movies",
          "France/Movies",
          "India/Movies",
          "Japan/Movies",
          "Spain/Movies",
          "United Kingdom/Movies",
          "United States/Movies",
          "Canada/Music & Musicals",
          "France/Music & Musicals",
          "India/Music & Musicals",
          "Japan/Music & Musicals",
          "Spain/Music & Musicals",
          "United Kingdom/Music & Musicals",
          "United States/Music & Musicals",
          "Canada/Reality TV",
          "France/Reality TV",
          "India/Reality TV",
          "Japan/Reality TV",
          "Spain/Reality TV",
          "United Kingdom/Reality TV",
          "United States/Reality TV",
          "Canada/Romantic Movies",
          "France/Romantic Movies",
          "India/Romantic Movies",
          "Japan/Romantic Movies",
          "Spain/Romantic Movies",
          "United Kingdom/Romantic Movies",
          "United States/Romantic Movies",
          "Canada/Romantic TV Shows",
          "France/Romantic TV Shows",
          "India/Romantic TV Shows",
          "Japan/Romantic TV Shows",
          "Spain/Romantic TV Shows",
          "United Kingdom/Romantic TV Shows",
          "United States/Romantic TV Shows",
          "Canada/Sci-Fi & Fantasy",
          "France/Sci-Fi & Fantasy",
          "India/Sci-Fi & Fantasy",
          "Japan/Sci-Fi & Fantasy",
          "Spain/Sci-Fi & Fantasy",
          "United Kingdom/Sci-Fi & Fantasy",
          "United States/Sci-Fi & Fantasy",
          "Canada/Science & Nature TV",
          "France/Science & Nature TV",
          "India/Science & Nature TV",
          "Japan/Science & Nature TV",
          "Spain/Science & Nature TV",
          "United Kingdom/Science & Nature TV",
          "United States/Science & Nature TV",
          "Canada/Spanish-Language TV Shows",
          "France/Spanish-Language TV Shows",
          "India/Spanish-Language TV Shows",
          "Japan/Spanish-Language TV Shows",
          "Spain/Spanish-Language TV Shows",
          "United Kingdom/Spanish-Language TV Shows",
          "United States/Spanish-Language TV Shows",
          "Canada/Sports Movies",
          "France/Sports Movies",
          "India/Sports Movies",
          "Japan/Sports Movies",
          "Spain/Sports Movies",
          "United Kingdom/Sports Movies",
          "United States/Sports Movies",
          "Canada/Stand-Up Comedy",
          "France/Stand-Up Comedy",
          "India/Stand-Up Comedy",
          "Japan/Stand-Up Comedy",
          "Spain/Stand-Up Comedy",
          "United Kingdom/Stand-Up Comedy",
          "United States/Stand-Up Comedy",
          "Canada/Stand-Up Comedy & Talk Shows",
          "France/Stand-Up Comedy & Talk Shows",
          "India/Stand-Up Comedy & Talk Shows",
          "Japan/Stand-Up Comedy & Talk Shows",
          "Spain/Stand-Up Comedy & Talk Shows",
          "United Kingdom/Stand-Up Comedy & Talk Shows",
          "United States/Stand-Up Comedy & Talk Shows",
          "Canada/TV Action & Adventure",
          "France/TV Action & Adventure",
          "India/TV Action & Adventure",
          "Japan/TV Action & Adventure",
          "Spain/TV Action & Adventure",
          "United Kingdom/TV Action & Adventure",
          "United States/TV Action & Adventure",
          "Canada/TV Comedies",
          "France/TV Comedies",
          "India/TV Comedies",
          "Japan/TV Comedies",
          "Spain/TV Comedies",
          "United Kingdom/TV Comedies",
          "United States/TV Comedies",
          "Canada/TV Dramas",
          "France/TV Dramas",
          "India/TV Dramas",
          "Japan/TV Dramas",
          "Spain/TV Dramas",
          "United Kingdom/TV Dramas",
          "United States/TV Dramas",
          "Canada/TV Horror",
          "France/TV Horror",
          "India/TV Horror",
          "Japan/TV Horror",
          "Spain/TV Horror",
          "United Kingdom/TV Horror",
          "United States/TV Horror",
          "Canada/TV Mysteries",
          "France/TV Mysteries",
          "India/TV Mysteries",
          "Japan/TV Mysteries",
          "Spain/TV Mysteries",
          "United Kingdom/TV Mysteries",
          "United States/TV Mysteries",
          "Canada/TV Sci-Fi & Fantasy",
          "France/TV Sci-Fi & Fantasy",
          "India/TV Sci-Fi & Fantasy",
          "Japan/TV Sci-Fi & Fantasy",
          "Spain/TV Sci-Fi & Fantasy",
          "United Kingdom/TV Sci-Fi & Fantasy",
          "United States/TV Sci-Fi & Fantasy",
          "Canada/TV Shows",
          "France/TV Shows",
          "India/TV Shows",
          "Japan/TV Shows",
          "Spain/TV Shows",
          "United Kingdom/TV Shows",
          "United States/TV Shows",
          "Canada/TV Thrillers",
          "France/TV Thrillers",
          "India/TV Thrillers",
          "Japan/TV Thrillers",
          "Spain/TV Thrillers",
          "United Kingdom/TV Thrillers",
          "United States/TV Thrillers",
          "Canada/Teen TV Shows",
          "France/Teen TV Shows",
          "India/Teen TV Shows",
          "Japan/Teen TV Shows",
          "Spain/Teen TV Shows",
          "United Kingdom/Teen TV Shows",
          "United States/Teen TV Shows",
          "Canada/Thrillers",
          "France/Thrillers",
          "India/Thrillers",
          "Japan/Thrillers",
          "Spain/Thrillers",
          "United Kingdom/Thrillers",
          "United States/Thrillers",
          "Canada",
          "France",
          "India",
          "Japan",
          "Spain",
          "United Kingdom",
          "United States"
         ],
         "labels": [
          "Action & Adventure",
          "Action & Adventure",
          "Action & Adventure",
          "Action & Adventure",
          "Action & Adventure",
          "Action & Adventure",
          "Action & Adventure",
          "Anime Features",
          "Anime Features",
          "Anime Features",
          "Anime Features",
          "Anime Features",
          "Anime Features",
          "Anime Features",
          "Anime Series",
          "Anime Series",
          "Anime Series",
          "Anime Series",
          "Anime Series",
          "Anime Series",
          "Anime Series",
          "British TV Shows",
          "British TV Shows",
          "British TV Shows",
          "British TV Shows",
          "British TV Shows",
          "British TV Shows",
          "British TV Shows",
          "Children & Family Movies",
          "Children & Family Movies",
          "Children & Family Movies",
          "Children & Family Movies",
          "Children & Family Movies",
          "Children & Family Movies",
          "Children & Family Movies",
          "Classic & Cult TV",
          "Classic & Cult TV",
          "Classic & Cult TV",
          "Classic & Cult TV",
          "Classic & Cult TV",
          "Classic & Cult TV",
          "Classic & Cult TV",
          "Classic Movies",
          "Classic Movies",
          "Classic Movies",
          "Classic Movies",
          "Classic Movies",
          "Classic Movies",
          "Classic Movies",
          "Comedies",
          "Comedies",
          "Comedies",
          "Comedies",
          "Comedies",
          "Comedies",
          "Comedies",
          "Crime TV Shows",
          "Crime TV Shows",
          "Crime TV Shows",
          "Crime TV Shows",
          "Crime TV Shows",
          "Crime TV Shows",
          "Crime TV Shows",
          "Cult Movies",
          "Cult Movies",
          "Cult Movies",
          "Cult Movies",
          "Cult Movies",
          "Cult Movies",
          "Cult Movies",
          "Documentaries",
          "Documentaries",
          "Documentaries",
          "Documentaries",
          "Documentaries",
          "Documentaries",
          "Documentaries",
          "Docuseries",
          "Docuseries",
          "Docuseries",
          "Docuseries",
          "Docuseries",
          "Docuseries",
          "Docuseries",
          "Dramas",
          "Dramas",
          "Dramas",
          "Dramas",
          "Dramas",
          "Dramas",
          "Dramas",
          "Faith & Spirituality",
          "Faith & Spirituality",
          "Faith & Spirituality",
          "Faith & Spirituality",
          "Faith & Spirituality",
          "Faith & Spirituality",
          "Faith & Spirituality",
          "Horror Movies",
          "Horror Movies",
          "Horror Movies",
          "Horror Movies",
          "Horror Movies",
          "Horror Movies",
          "Horror Movies",
          "Independent Movies",
          "Independent Movies",
          "Independent Movies",
          "Independent Movies",
          "Independent Movies",
          "Independent Movies",
          "Independent Movies",
          "International Movies",
          "International Movies",
          "International Movies",
          "International Movies",
          "International Movies",
          "International Movies",
          "International Movies",
          "International TV Shows",
          "International TV Shows",
          "International TV Shows",
          "International TV Shows",
          "International TV Shows",
          "International TV Shows",
          "International TV Shows",
          "Kids' TV",
          "Kids' TV",
          "Kids' TV",
          "Kids' TV",
          "Kids' TV",
          "Kids' TV",
          "Kids' TV",
          "Korean TV Shows",
          "Korean TV Shows",
          "Korean TV Shows",
          "Korean TV Shows",
          "Korean TV Shows",
          "Korean TV Shows",
          "Korean TV Shows",
          "LGBTQ Movies",
          "LGBTQ Movies",
          "LGBTQ Movies",
          "LGBTQ Movies",
          "LGBTQ Movies",
          "LGBTQ Movies",
          "LGBTQ Movies",
          "Movies",
          "Movies",
          "Movies",
          "Movies",
          "Movies",
          "Movies",
          "Movies",
          "Music & Musicals",
          "Music & Musicals",
          "Music & Musicals",
          "Music & Musicals",
          "Music & Musicals",
          "Music & Musicals",
          "Music & Musicals",
          "Reality TV",
          "Reality TV",
          "Reality TV",
          "Reality TV",
          "Reality TV",
          "Reality TV",
          "Reality TV",
          "Romantic Movies",
          "Romantic Movies",
          "Romantic Movies",
          "Romantic Movies",
          "Romantic Movies",
          "Romantic Movies",
          "Romantic Movies",
          "Romantic TV Shows",
          "Romantic TV Shows",
          "Romantic TV Shows",
          "Romantic TV Shows",
          "Romantic TV Shows",
          "Romantic TV Shows",
          "Romantic TV Shows",
          "Sci-Fi & Fantasy",
          "Sci-Fi & Fantasy",
          "Sci-Fi & Fantasy",
          "Sci-Fi & Fantasy",
          "Sci-Fi & Fantasy",
          "Sci-Fi & Fantasy",
          "Sci-Fi & Fantasy",
          "Science & Nature TV",
          "Science & Nature TV",
          "Science & Nature TV",
          "Science & Nature TV",
          "Science & Nature TV",
          "Science & Nature TV",
          "Science & Nature TV",
          "Spanish-Language TV Shows",
          "Spanish-Language TV Shows",
          "Spanish-Language TV Shows",
          "Spanish-Language TV Shows",
          "Spanish-Language TV Shows",
          "Spanish-Language TV Shows",
          "Spanish-Language TV Shows",
          "Sports Movies",
          "Sports Movies",
          "Sports Movies",
          "Sports Movies",
          "Sports Movies",
          "Sports Movies",
          "Sports Movies",
          "Stand-Up Comedy",
          "Stand-Up Comedy",
          "Stand-Up Comedy",
          "Stand-Up Comedy",
          "Stand-Up Comedy",
          "Stand-Up Comedy",
          "Stand-Up Comedy",
          "Stand-Up Comedy & Talk Shows",
          "Stand-Up Comedy & Talk Shows",
          "Stand-Up Comedy & Talk Shows",
          "Stand-Up Comedy & Talk Shows",
          "Stand-Up Comedy & Talk Shows",
          "Stand-Up Comedy & Talk Shows",
          "Stand-Up Comedy & Talk Shows",
          "TV Action & Adventure",
          "TV Action & Adventure",
          "TV Action & Adventure",
          "TV Action & Adventure",
          "TV Action & Adventure",
          "TV Action & Adventure",
          "TV Action & Adventure",
          "TV Comedies",
          "TV Comedies",
          "TV Comedies",
          "TV Comedies",
          "TV Comedies",
          "TV Comedies",
          "TV Comedies",
          "TV Dramas",
          "TV Dramas",
          "TV Dramas",
          "TV Dramas",
          "TV Dramas",
          "TV Dramas",
          "TV Dramas",
          "TV Horror",
          "TV Horror",
          "TV Horror",
          "TV Horror",
          "TV Horror",
          "TV Horror",
          "TV Horror",
          "TV Mysteries",
          "TV Mysteries",
          "TV Mysteries",
          "TV Mysteries",
          "TV Mysteries",
          "TV Mysteries",
          "TV Mysteries",
          "TV Sci-Fi & Fantasy",
          "TV Sci-Fi & Fantasy",
          "TV Sci-Fi & Fantasy",
          "TV Sci-Fi & Fantasy",
          "TV Sci-Fi & Fantasy",
          "TV Sci-Fi & Fantasy",
          "TV Sci-Fi & Fantasy",
          "TV Shows",
          "TV Shows",
          "TV Shows",
          "TV Shows",
          "TV Shows",
          "TV Shows",
          "TV Shows",
          "TV Thrillers",
          "TV Thrillers",
          "TV Thrillers",
          "TV Thrillers",
          "TV Thrillers",
          "TV Thrillers",
          "TV Thrillers",
          "Teen TV Shows",
          "Teen TV Shows",
          "Teen TV Shows",
          "Teen TV Shows",
          "Teen TV Shows",
          "Teen TV Shows",
          "Teen TV Shows",
          "Thrillers",
          "Thrillers",
          "Thrillers",
          "Thrillers",
          "Thrillers",
          "Thrillers",
          "Thrillers",
          "Canada",
          "France",
          "India",
          "Japan",
          "Spain",
          "United Kingdom",
          "United States"
         ],
         "name": "",
         "parents": [
          "Canada",
          "France",
          "India",
          "Japan",
          "Spain",
          "United Kingdom",
          "United States",
          "Canada",
          "France",
          "India",
          "Japan",
          "Spain",
          "United Kingdom",
          "United States",
          "Canada",
          "France",
          "India",
          "Japan",
          "Spain",
          "United Kingdom",
          "United States",
          "Canada",
          "France",
          "India",
          "Japan",
          "Spain",
          "United Kingdom",
          "United States",
          "Canada",
          "France",
          "India",
          "Japan",
          "Spain",
          "United Kingdom",
          "United States",
          "Canada",
          "France",
          "India",
          "Japan",
          "Spain",
          "United Kingdom",
          "United States",
          "Canada",
          "France",
          "India",
          "Japan",
          "Spain",
          "United Kingdom",
          "United States",
          "Canada",
          "France",
          "India",
          "Japan",
          "Spain",
          "United Kingdom",
          "United States",
          "Canada",
          "France",
          "India",
          "Japan",
          "Spain",
          "United Kingdom",
          "United States",
          "Canada",
          "France",
          "India",
          "Japan",
          "Spain",
          "United Kingdom",
          "United States",
          "Canada",
          "France",
          "India",
          "Japan",
          "Spain",
          "United Kingdom",
          "United States",
          "Canada",
          "France",
          "India",
          "Japan",
          "Spain",
          "United Kingdom",
          "United States",
          "Canada",
          "France",
          "India",
          "Japan",
          "Spain",
          "United Kingdom",
          "United States",
          "Canada",
          "France",
          "India",
          "Japan",
          "Spain",
          "United Kingdom",
          "United States",
          "Canada",
          "France",
          "India",
          "Japan",
          "Spain",
          "United Kingdom",
          "United States",
          "Canada",
          "France",
          "India",
          "Japan",
          "Spain",
          "United Kingdom",
          "United States",
          "Canada",
          "France",
          "India",
          "Japan",
          "Spain",
          "United Kingdom",
          "United States",
          "Canada",
          "France",
          "India",
          "Japan",
          "Spain",
          "United Kingdom",
          "United States",
          "Canada",
          "France",
          "India",
          "Japan",
          "Spain",
          "United Kingdom",
          "United States",
          "Canada",
          "France",
          "India",
          "Japan",
          "Spain",
          "United Kingdom",
          "United States",
          "Canada",
          "France",
          "India",
          "Japan",
          "Spain",
          "United Kingdom",
          "United States",
          "Canada",
          "France",
          "India",
          "Japan",
          "Spain",
          "United Kingdom",
          "United States",
          "Canada",
          "France",
          "India",
          "Japan",
          "Spain",
          "United Kingdom",
          "United States",
          "Canada",
          "France",
          "India",
          "Japan",
          "Spain",
          "United Kingdom",
          "United States",
          "Canada",
          "France",
          "India",
          "Japan",
          "Spain",
          "United Kingdom",
          "United States",
          "Canada",
          "France",
          "India",
          "Japan",
          "Spain",
          "United Kingdom",
          "United States",
          "Canada",
          "France",
          "India",
          "Japan",
          "Spain",
          "United Kingdom",
          "United States",
          "Canada",
          "France",
          "India",
          "Japan",
          "Spain",
          "United Kingdom",
          "United States",
          "Canada",
          "France",
          "India",
          "Japan",
          "Spain",
          "United Kingdom",
          "United States",
          "Canada",
          "France",
          "India",
          "Japan",
          "Spain",
          "United Kingdom",
          "United States",
          "Canada",
          "France",
          "India",
          "Japan",
          "Spain",
          "United Kingdom",
          "United States",
          "Canada",
          "France",
          "India",
          "Japan",
          "Spain",
          "United Kingdom",
          "United States",
          "Canada",
          "France",
          "India",
          "Japan",
          "Spain",
          "United Kingdom",
          "United States",
          "Canada",
          "France",
          "India",
          "Japan",
          "Spain",
          "United Kingdom",
          "United States",
          "Canada",
          "France",
          "India",
          "Japan",
          "Spain",
          "United Kingdom",
          "United States",
          "Canada",
          "France",
          "India",
          "Japan",
          "Spain",
          "United Kingdom",
          "United States",
          "Canada",
          "France",
          "India",
          "Japan",
          "Spain",
          "United Kingdom",
          "United States",
          "Canada",
          "France",
          "India",
          "Japan",
          "Spain",
          "United Kingdom",
          "United States",
          "Canada",
          "France",
          "India",
          "Japan",
          "Spain",
          "United Kingdom",
          "United States",
          "Canada",
          "France",
          "India",
          "Japan",
          "Spain",
          "United Kingdom",
          "United States",
          "Canada",
          "France",
          "India",
          "Japan",
          "Spain",
          "United Kingdom",
          "United States",
          "Canada",
          "France",
          "India",
          "Japan",
          "Spain",
          "United Kingdom",
          "United States",
          "",
          "",
          "",
          "",
          "",
          "",
          ""
         ],
         "type": "sunburst",
         "values": [
          29,
          18,
          126,
          39,
          5,
          59,
          247,
          0,
          0,
          0,
          43,
          0,
          0,
          3,
          2,
          0,
          0,
          107,
          0,
          0,
          9,
          3,
          1,
          0,
          0,
          3,
          192,
          22,
          43,
          15,
          15,
          9,
          6,
          24,
          258,
          2,
          0,
          0,
          0,
          0,
          6,
          16,
          0,
          0,
          12,
          3,
          1,
          11,
          61,
          68,
          37,
          246,
          6,
          40,
          67,
          447,
          14,
          18,
          7,
          12,
          20,
          43,
          115,
          6,
          3,
          4,
          1,
          0,
          5,
          37,
          31,
          25,
          25,
          6,
          16,
          106,
          401,
          10,
          6,
          5,
          0,
          6,
          82,
          134,
          56,
          114,
          539,
          10,
          63,
          122,
          533,
          2,
          2,
          4,
          0,
          2,
          3,
          28,
          22,
          9,
          31,
          3,
          9,
          22,
          145,
          32,
          50,
          128,
          5,
          17,
          52,
          287,
          44,
          148,
          719,
          44,
          111,
          126,
          116,
          23,
          35,
          48,
          112,
          40,
          106,
          56,
          50,
          32,
          5,
          27,
          3,
          21,
          157,
          1,
          0,
          0,
          0,
          0,
          0,
          2,
          2,
          1,
          2,
          1,
          3,
          4,
          39,
          5,
          1,
          0,
          2,
          3,
          3,
          23,
          9,
          3,
          92,
          3,
          4,
          23,
          77,
          7,
          2,
          2,
          8,
          1,
          27,
          67,
          16,
          18,
          91,
          4,
          9,
          23,
          133,
          2,
          2,
          6,
          17,
          8,
          9,
          27,
          16,
          8,
          11,
          8,
          8,
          28,
          134,
          4,
          1,
          0,
          0,
          1,
          25,
          31,
          0,
          0,
          0,
          1,
          31,
          1,
          25,
          9,
          10,
          14,
          1,
          3,
          18,
          84,
          2,
          4,
          1,
          0,
          0,
          17,
          186,
          0,
          0,
          1,
          1,
          0,
          1,
          27,
          8,
          3,
          4,
          4,
          3,
          6,
          73,
          27,
          17,
          15,
          9,
          5,
          38,
          195,
          27,
          23,
          21,
          20,
          9,
          27,
          189,
          7,
          2,
          6,
          1,
          0,
          4,
          30,
          6,
          2,
          3,
          3,
          0,
          3,
          44,
          5,
          1,
          3,
          0,
          0,
          3,
          50,
          0,
          0,
          2,
          1,
          0,
          0,
          3,
          5,
          3,
          3,
          4,
          0,
          3,
          23,
          1,
          0,
          1,
          11,
          1,
          0,
          20,
          31,
          23,
          72,
          3,
          28,
          43,
          202,
          627,
          637,
          2264,
          529,
          459,
          1353,
          4756
         ]
        }
       ],
       "layout": {
        "hovermode": "x",
        "legend": {
         "tracegroupgap": 0
        },
        "template": {
         "data": {
          "bar": [
           {
            "error_x": {
             "color": "#2a3f5f"
            },
            "error_y": {
             "color": "#2a3f5f"
            },
            "marker": {
             "line": {
              "color": "#E5ECF6",
              "width": 0.5
             }
            },
            "type": "bar"
           }
          ],
          "barpolar": [
           {
            "marker": {
             "line": {
              "color": "#E5ECF6",
              "width": 0.5
             }
            },
            "type": "barpolar"
           }
          ],
          "carpet": [
           {
            "aaxis": {
             "endlinecolor": "#2a3f5f",
             "gridcolor": "white",
             "linecolor": "white",
             "minorgridcolor": "white",
             "startlinecolor": "#2a3f5f"
            },
            "baxis": {
             "endlinecolor": "#2a3f5f",
             "gridcolor": "white",
             "linecolor": "white",
             "minorgridcolor": "white",
             "startlinecolor": "#2a3f5f"
            },
            "type": "carpet"
           }
          ],
          "choropleth": [
           {
            "colorbar": {
             "outlinewidth": 0,
             "ticks": ""
            },
            "type": "choropleth"
           }
          ],
          "contour": [
           {
            "colorbar": {
             "outlinewidth": 0,
             "ticks": ""
            },
            "colorscale": [
             [
              0,
              "#0d0887"
             ],
             [
              0.1111111111111111,
              "#46039f"
             ],
             [
              0.2222222222222222,
              "#7201a8"
             ],
             [
              0.3333333333333333,
              "#9c179e"
             ],
             [
              0.4444444444444444,
              "#bd3786"
             ],
             [
              0.5555555555555556,
              "#d8576b"
             ],
             [
              0.6666666666666666,
              "#ed7953"
             ],
             [
              0.7777777777777778,
              "#fb9f3a"
             ],
             [
              0.8888888888888888,
              "#fdca26"
             ],
             [
              1,
              "#f0f921"
             ]
            ],
            "type": "contour"
           }
          ],
          "contourcarpet": [
           {
            "colorbar": {
             "outlinewidth": 0,
             "ticks": ""
            },
            "type": "contourcarpet"
           }
          ],
          "heatmap": [
           {
            "colorbar": {
             "outlinewidth": 0,
             "ticks": ""
            },
            "colorscale": [
             [
              0,
              "#0d0887"
             ],
             [
              0.1111111111111111,
              "#46039f"
             ],
             [
              0.2222222222222222,
              "#7201a8"
             ],
             [
              0.3333333333333333,
              "#9c179e"
             ],
             [
              0.4444444444444444,
              "#bd3786"
             ],
             [
              0.5555555555555556,
              "#d8576b"
             ],
             [
              0.6666666666666666,
              "#ed7953"
             ],
             [
              0.7777777777777778,
              "#fb9f3a"
             ],
             [
              0.8888888888888888,
              "#fdca26"
             ],
             [
              1,
              "#f0f921"
             ]
            ],
            "type": "heatmap"
           }
          ],
          "heatmapgl": [
           {
            "colorbar": {
             "outlinewidth": 0,
             "ticks": ""
            },
            "colorscale": [
             [
              0,
              "#0d0887"
             ],
             [
              0.1111111111111111,
              "#46039f"
             ],
             [
              0.2222222222222222,
              "#7201a8"
             ],
             [
              0.3333333333333333,
              "#9c179e"
             ],
             [
              0.4444444444444444,
              "#bd3786"
             ],
             [
              0.5555555555555556,
              "#d8576b"
             ],
             [
              0.6666666666666666,
              "#ed7953"
             ],
             [
              0.7777777777777778,
              "#fb9f3a"
             ],
             [
              0.8888888888888888,
              "#fdca26"
             ],
             [
              1,
              "#f0f921"
             ]
            ],
            "type": "heatmapgl"
           }
          ],
          "histogram": [
           {
            "marker": {
             "colorbar": {
              "outlinewidth": 0,
              "ticks": ""
             }
            },
            "type": "histogram"
           }
          ],
          "histogram2d": [
           {
            "colorbar": {
             "outlinewidth": 0,
             "ticks": ""
            },
            "colorscale": [
             [
              0,
              "#0d0887"
             ],
             [
              0.1111111111111111,
              "#46039f"
             ],
             [
              0.2222222222222222,
              "#7201a8"
             ],
             [
              0.3333333333333333,
              "#9c179e"
             ],
             [
              0.4444444444444444,
              "#bd3786"
             ],
             [
              0.5555555555555556,
              "#d8576b"
             ],
             [
              0.6666666666666666,
              "#ed7953"
             ],
             [
              0.7777777777777778,
              "#fb9f3a"
             ],
             [
              0.8888888888888888,
              "#fdca26"
             ],
             [
              1,
              "#f0f921"
             ]
            ],
            "type": "histogram2d"
           }
          ],
          "histogram2dcontour": [
           {
            "colorbar": {
             "outlinewidth": 0,
             "ticks": ""
            },
            "colorscale": [
             [
              0,
              "#0d0887"
             ],
             [
              0.1111111111111111,
              "#46039f"
             ],
             [
              0.2222222222222222,
              "#7201a8"
             ],
             [
              0.3333333333333333,
              "#9c179e"
             ],
             [
              0.4444444444444444,
              "#bd3786"
             ],
             [
              0.5555555555555556,
              "#d8576b"
             ],
             [
              0.6666666666666666,
              "#ed7953"
             ],
             [
              0.7777777777777778,
              "#fb9f3a"
             ],
             [
              0.8888888888888888,
              "#fdca26"
             ],
             [
              1,
              "#f0f921"
             ]
            ],
            "type": "histogram2dcontour"
           }
          ],
          "mesh3d": [
           {
            "colorbar": {
             "outlinewidth": 0,
             "ticks": ""
            },
            "type": "mesh3d"
           }
          ],
          "parcoords": [
           {
            "line": {
             "colorbar": {
              "outlinewidth": 0,
              "ticks": ""
             }
            },
            "type": "parcoords"
           }
          ],
          "pie": [
           {
            "automargin": true,
            "type": "pie"
           }
          ],
          "scatter": [
           {
            "marker": {
             "colorbar": {
              "outlinewidth": 0,
              "ticks": ""
             }
            },
            "type": "scatter"
           }
          ],
          "scatter3d": [
           {
            "line": {
             "colorbar": {
              "outlinewidth": 0,
              "ticks": ""
             }
            },
            "marker": {
             "colorbar": {
              "outlinewidth": 0,
              "ticks": ""
             }
            },
            "type": "scatter3d"
           }
          ],
          "scattercarpet": [
           {
            "marker": {
             "colorbar": {
              "outlinewidth": 0,
              "ticks": ""
             }
            },
            "type": "scattercarpet"
           }
          ],
          "scattergeo": [
           {
            "marker": {
             "colorbar": {
              "outlinewidth": 0,
              "ticks": ""
             }
            },
            "type": "scattergeo"
           }
          ],
          "scattergl": [
           {
            "marker": {
             "colorbar": {
              "outlinewidth": 0,
              "ticks": ""
             }
            },
            "type": "scattergl"
           }
          ],
          "scattermapbox": [
           {
            "marker": {
             "colorbar": {
              "outlinewidth": 0,
              "ticks": ""
             }
            },
            "type": "scattermapbox"
           }
          ],
          "scatterpolar": [
           {
            "marker": {
             "colorbar": {
              "outlinewidth": 0,
              "ticks": ""
             }
            },
            "type": "scatterpolar"
           }
          ],
          "scatterpolargl": [
           {
            "marker": {
             "colorbar": {
              "outlinewidth": 0,
              "ticks": ""
             }
            },
            "type": "scatterpolargl"
           }
          ],
          "scatterternary": [
           {
            "marker": {
             "colorbar": {
              "outlinewidth": 0,
              "ticks": ""
             }
            },
            "type": "scatterternary"
           }
          ],
          "surface": [
           {
            "colorbar": {
             "outlinewidth": 0,
             "ticks": ""
            },
            "colorscale": [
             [
              0,
              "#0d0887"
             ],
             [
              0.1111111111111111,
              "#46039f"
             ],
             [
              0.2222222222222222,
              "#7201a8"
             ],
             [
              0.3333333333333333,
              "#9c179e"
             ],
             [
              0.4444444444444444,
              "#bd3786"
             ],
             [
              0.5555555555555556,
              "#d8576b"
             ],
             [
              0.6666666666666666,
              "#ed7953"
             ],
             [
              0.7777777777777778,
              "#fb9f3a"
             ],
             [
              0.8888888888888888,
              "#fdca26"
             ],
             [
              1,
              "#f0f921"
             ]
            ],
            "type": "surface"
           }
          ],
          "table": [
           {
            "cells": {
             "fill": {
              "color": "#EBF0F8"
             },
             "line": {
              "color": "white"
             }
            },
            "header": {
             "fill": {
              "color": "#C8D4E3"
             },
             "line": {
              "color": "white"
             }
            },
            "type": "table"
           }
          ]
         },
         "layout": {
          "annotationdefaults": {
           "arrowcolor": "#2a3f5f",
           "arrowhead": 0,
           "arrowwidth": 1
          },
          "coloraxis": {
           "colorbar": {
            "outlinewidth": 0,
            "ticks": ""
           }
          },
          "colorscale": {
           "diverging": [
            [
             0,
             "#8e0152"
            ],
            [
             0.1,
             "#c51b7d"
            ],
            [
             0.2,
             "#de77ae"
            ],
            [
             0.3,
             "#f1b6da"
            ],
            [
             0.4,
             "#fde0ef"
            ],
            [
             0.5,
             "#f7f7f7"
            ],
            [
             0.6,
             "#e6f5d0"
            ],
            [
             0.7,
             "#b8e186"
            ],
            [
             0.8,
             "#7fbc41"
            ],
            [
             0.9,
             "#4d9221"
            ],
            [
             1,
             "#276419"
            ]
           ],
           "sequential": [
            [
             0,
             "#0d0887"
            ],
            [
             0.1111111111111111,
             "#46039f"
            ],
            [
             0.2222222222222222,
             "#7201a8"
            ],
            [
             0.3333333333333333,
             "#9c179e"
            ],
            [
             0.4444444444444444,
             "#bd3786"
            ],
            [
             0.5555555555555556,
             "#d8576b"
            ],
            [
             0.6666666666666666,
             "#ed7953"
            ],
            [
             0.7777777777777778,
             "#fb9f3a"
            ],
            [
             0.8888888888888888,
             "#fdca26"
            ],
            [
             1,
             "#f0f921"
            ]
           ],
           "sequentialminus": [
            [
             0,
             "#0d0887"
            ],
            [
             0.1111111111111111,
             "#46039f"
            ],
            [
             0.2222222222222222,
             "#7201a8"
            ],
            [
             0.3333333333333333,
             "#9c179e"
            ],
            [
             0.4444444444444444,
             "#bd3786"
            ],
            [
             0.5555555555555556,
             "#d8576b"
            ],
            [
             0.6666666666666666,
             "#ed7953"
            ],
            [
             0.7777777777777778,
             "#fb9f3a"
            ],
            [
             0.8888888888888888,
             "#fdca26"
            ],
            [
             1,
             "#f0f921"
            ]
           ]
          },
          "colorway": [
           "#636efa",
           "#EF553B",
           "#00cc96",
           "#ab63fa",
           "#FFA15A",
           "#19d3f3",
           "#FF6692",
           "#B6E880",
           "#FF97FF",
           "#FECB52"
          ],
          "font": {
           "color": "#2a3f5f"
          },
          "geo": {
           "bgcolor": "white",
           "lakecolor": "white",
           "landcolor": "#E5ECF6",
           "showlakes": true,
           "showland": true,
           "subunitcolor": "white"
          },
          "hoverlabel": {
           "align": "left"
          },
          "hovermode": "closest",
          "mapbox": {
           "style": "light"
          },
          "paper_bgcolor": "white",
          "plot_bgcolor": "#E5ECF6",
          "polar": {
           "angularaxis": {
            "gridcolor": "white",
            "linecolor": "white",
            "ticks": ""
           },
           "bgcolor": "#E5ECF6",
           "radialaxis": {
            "gridcolor": "white",
            "linecolor": "white",
            "ticks": ""
           }
          },
          "scene": {
           "xaxis": {
            "backgroundcolor": "#E5ECF6",
            "gridcolor": "white",
            "gridwidth": 2,
            "linecolor": "white",
            "showbackground": true,
            "ticks": "",
            "zerolinecolor": "white"
           },
           "yaxis": {
            "backgroundcolor": "#E5ECF6",
            "gridcolor": "white",
            "gridwidth": 2,
            "linecolor": "white",
            "showbackground": true,
            "ticks": "",
            "zerolinecolor": "white"
           },
           "zaxis": {
            "backgroundcolor": "#E5ECF6",
            "gridcolor": "white",
            "gridwidth": 2,
            "linecolor": "white",
            "showbackground": true,
            "ticks": "",
            "zerolinecolor": "white"
           }
          },
          "shapedefaults": {
           "line": {
            "color": "#2a3f5f"
           }
          },
          "ternary": {
           "aaxis": {
            "gridcolor": "white",
            "linecolor": "white",
            "ticks": ""
           },
           "baxis": {
            "gridcolor": "white",
            "linecolor": "white",
            "ticks": ""
           },
           "bgcolor": "#E5ECF6",
           "caxis": {
            "gridcolor": "white",
            "linecolor": "white",
            "ticks": ""
           }
          },
          "title": {
           "x": 0.05
          },
          "xaxis": {
           "automargin": true,
           "gridcolor": "white",
           "linecolor": "white",
           "ticks": "",
           "title": {
            "standoff": 15
           },
           "zerolinecolor": "white",
           "zerolinewidth": 2
          },
          "yaxis": {
           "automargin": true,
           "gridcolor": "white",
           "linecolor": "white",
           "ticks": "",
           "title": {
            "standoff": 15
           },
           "zerolinecolor": "white",
           "zerolinewidth": 2
          }
         }
        },
        "title": {
         "text": "Netflix Categories by Country"
        }
       }
      }
     },
     "metadata": {}
    },
    {
     "output_type": "display_data",
     "data": {
      "text/plain": "VBox(children=(HBox(children=(HTML(value='Release Year: '), Dropdown(options=('ALL', 2020, 2019, 2018, 2017, 2…",
      "application/vnd.jupyter.widget-view+json": {
       "version_major": 2,
       "version_minor": 0,
       "model_id": "56b448eb45994b6f8bddb29995a19b65"
      }
     },
     "metadata": {}
    },
    {
     "output_type": "stream",
     "name": "stdout",
     "text": [
      "yes\n"
     ]
    }
   ],
   "source": [
    "## Clean data\n",
    "def convert_to_list(x):\n",
    "    if isinstance(x, list):\n",
    "        return x\n",
    "    elif not isinstance(x, str):\n",
    "        return []\n",
    "    else:\n",
    "        return [i.strip() for i in x.split(',')]\n",
    "    \n",
    "netflix_df['listed_in'] = netflix_df['listed_in'].apply(convert_to_list)\n",
    "netflix_df['country'] = netflix_df['country'].apply(convert_to_list)\n",
    "netflix_df['cast'] = netflix_df['cast'].apply(convert_to_list)\n",
    "netflix_df['date_added'] = netflix_df['date_added'].apply(lambda x: pd.to_datetime(x))\n",
    "\n",
    "## Analysis of most popular category (listed_id)\n",
    "category_count = Counter(pd.Series([item for sublist in netflix_df.listed_in for item in sublist])).most_common()\n",
    "category_df = pd.DataFrame({\"type\": list(dict(category_count).keys()), \n",
    "                            \"count\": list(dict(category_count).values())})\n",
    "  \n",
    "fig1 = px.treemap(category_df, \n",
    "                path=['type'], \n",
    "                values='count',\n",
    "                title = 'Treemap of Type')\n",
    "fig1.update_traces(hovertemplate=None)\n",
    "fig1.update_layout(hovermode=\"x\")\n",
    "fig1.show()\n",
    "\n",
    "fig2 = px.bar(category_df, \n",
    "             x='type', y='count',\n",
    "             title = 'Count of Categories',\n",
    "             labels = {'x': 'category',\n",
    "                       'y': 'count'})\n",
    "fig2.update_traces(hovertemplate=None)\n",
    "fig2.update_layout(hovermode=\"x\")\n",
    "fig2.show()\n",
    "\n",
    "## Category by country\n",
    "countries = {ctry for i in netflix_df['country'] for ctry in i if ctry != ''}\n",
    "\n",
    "content_country_dict = {}\n",
    "for country in countries:\n",
    "    content_country_dict[country] = {content:0 for i in netflix_df['listed_in'] for content in i}\n",
    "\n",
    "for country in countries:\n",
    "    filtered_df = netflix_df[netflix_df.country.apply(lambda x: country in x)]\n",
    "    for ls in filtered_df['listed_in'].to_list():\n",
    "        for val in ls:\n",
    "            content_country_dict[country][val] += 1\n",
    "\n",
    "a = pd.DataFrame(columns=['category', 'count', 'country'])\n",
    "\n",
    "for country in countries:\n",
    "    a = a.append(pd.DataFrame(data={\"category\": list(content_country_dict[country].keys()),\n",
    "                \"count\": list(content_country_dict[country].values()),\n",
    "                \"country\": country}))\n",
    "\n",
    "a_list = ['United States', 'India', 'United Kingdom', 'France', 'Canada', 'Japan', 'Spain']\n",
    "a_reduced = a[a.country.isin(a_list)]\n",
    "\n",
    "fig3 = px.sunburst(a_reduced, path=['country', 'category'], values='count', title='Netflix Categories by Country')\n",
    "fig3.update_traces(hovertemplate=None)\n",
    "fig3.update_layout(hovermode=\"x\")\n",
    "fig3.show()\n",
    "\n",
    "## Movie vs TV show by year\n",
    "def response(change):\n",
    "    if rel_year.value == 'ALL':\n",
    "        with fig.batch_update():\n",
    "            fig.data[0].x = list(netflix_df['type'])\n",
    "    else:\n",
    "        filter_df = netflix_df[(netflix_df.release_year == rel_year.value)]\n",
    "        with fig.batch_update():\n",
    "            fig.data[0].x = list(filter_df['type'])\n",
    "\n",
    "rel_year = ipywidgets.Dropdown(\n",
    "                            options=['ALL'] + sorted(list(netflix_df['release_year'].unique()), reverse=True),\n",
    "                            value='ALL'\n",
    "                        )\n",
    "rel_description = ipywidgets.HTML('Release Year: ')\n",
    "\n",
    "rel_year.observe(response, names=\"value\")\n",
    "\n",
    "trace = go.Histogram(x=netflix_df['type'], \n",
    "                    name='Type')\n",
    "\n",
    "fig4 = go.FigureWidget(data=[trace],\n",
    "                    layout=go.Layout(\n",
    "                        title='Media Type'\n",
    "                    ))\n",
    "\n",
    "fig4.update_traces(hovertemplate=None)\n",
    "fig4.update_layout(hovermode=\"x\")\n",
    "fig4.update_traces(marker_color=['green', 'red'])\n",
    "\n",
    "container = ipywidgets.HBox([rel_description, rel_year])\n",
    "display(ipywidgets.VBox([container,\n",
    "                fig]))\n",
    "\n",
    "if not os.path.exists(\"results\"):\n",
    "    os.mkdir('results')\n",
    "\n",
    "if [i for i in os.listdir('results/') if i == \"netflix_summary.html\"]:\n",
    "    os.remove(\"results/netflix_summary.html\")\n",
    "\n",
    "with open('results/netflix_summary.html', 'a') as f:\n",
    "    f.write(\"\"\"\n",
    "    <h1>\n",
    "        Netflix Analysis Output\n",
    "    </h1>\n",
    "\n",
    "    <p>\n",
    "        Source = https://www.kaggle.com/shivamb/netflix-shows\n",
    "    </p>\n",
    "\n",
    "    <p>\n",
    "        Description = This dataset consists of tv shows and movies available on Netflix as of 2019. The dataset is collected from Flixable which is a third-party Netflix search engine.\n",
    "    </p>\n",
    "\n",
    "    <p>\n",
    "        Fig 1 shows the type of movie/TV show by category. The bigger the category the more movies/TV shows.\n",
    "    </p>\n",
    "    \"\"\")\n",
    "    fig1.write_html(f)\n",
    "    f.write(\"\"\"\n",
    "    <p>\n",
    "        Fig 2 shows the count of categories for the Movies and TV shows.\n",
    "    </p>\n",
    "    \"\"\"\n",
    "    )\n",
    "    fig2.write_html(f)\n",
    "    f.write(\"\"\"\n",
    "    <p>\n",
    "        Fig 3 shows Netflix categories by country.\n",
    "    </p>\n",
    "    \"\"\"\n",
    "    )\n",
    "    fig3.write_html(f)\n",
    "    f.write(\"\"\"\n",
    "    <p>\n",
    "        Fig 4 shows the count of categories, Movies vs TV Shows.\n",
    "    </p>\n",
    "    \"\"\"\n",
    "    )\n",
    "    fig4.write_html(f)"
   ]
  },
  {
   "cell_type": "code",
   "execution_count": null,
   "metadata": {},
   "outputs": [],
   "source": []
  }
 ],
 "metadata": {
  "kernelspec": {
   "display_name": "Python 3",
   "language": "python",
   "name": "python3"
  },
  "language_info": {
   "codemirror_mode": {
    "name": "ipython",
    "version": 3
   },
   "file_extension": ".py",
   "mimetype": "text/x-python",
   "name": "python",
   "nbconvert_exporter": "python",
   "pygments_lexer": "ipython3",
   "version": "3.7.4-final"
  }
 },
 "nbformat": 4,
 "nbformat_minor": 4
}